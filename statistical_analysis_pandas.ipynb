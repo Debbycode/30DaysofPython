{
 "cells": [
  {
   "cell_type": "code",
   "execution_count": null,
   "id": "056d59c3",
   "metadata": {},
   "outputs": [],
   "source": [
    "import pandas as pd # importing pandas as pd\n",
    "import numpy  as np # importing numpy as np"
   ]
  },
  {
   "cell_type": "code",
   "execution_count": null,
   "id": "4a8c393e",
   "metadata": {},
   "outputs": [],
   "source": [
    "nums = [1, 2, 3, 4,5]\n",
    "s = pd.Series(nums)\n",
    "print(s)"
   ]
  },
  {
   "cell_type": "code",
   "execution_count": null,
   "id": "2c538bcf",
   "metadata": {},
   "outputs": [],
   "source": [
    "pip install conda"
   ]
  },
  {
   "cell_type": "markdown",
   "id": "fe13a7f1",
   "metadata": {},
   "source": []
  },
  {
   "cell_type": "code",
   "execution_count": null,
   "id": "159840be",
   "metadata": {},
   "outputs": [],
   "source": [
    "fruits = ['Orange','Banana','Mango']\n",
    "fruits = pd.Series(fruits, index=[1, 2, 3])\n",
    "print(fruits)"
   ]
  },
  {
   "cell_type": "code",
   "execution_count": null,
   "id": "ac04578d",
   "metadata": {},
   "outputs": [],
   "source": [
    "dct = {'name':'Asabeneh','country':'Finland','city':'Helsinki'}\n",
    "s = pd.Series(dct)\n",
    "print(s)"
   ]
  },
  {
   "cell_type": "code",
   "execution_count": null,
   "id": "135e90b4",
   "metadata": {},
   "outputs": [],
   "source": [
    "s = pd.Series(10, index = [1, 2, 3])\n",
    "print(s)"
   ]
  },
  {
   "cell_type": "code",
   "execution_count": null,
   "id": "ae9d49fc",
   "metadata": {},
   "outputs": [],
   "source": [
    "s = pd.Series(np.linspace(5, 20, 10)) # linspace(starting, end, items)\n",
    "print(s)"
   ]
  },
  {
   "cell_type": "code",
   "execution_count": null,
   "id": "03223c94",
   "metadata": {},
   "outputs": [],
   "source": []
  },
  {
   "cell_type": "code",
   "execution_count": null,
   "id": "4bdaef3c",
   "metadata": {},
   "outputs": [],
   "source": [
    "data = [\n",
    "    ['Asabeneh', 'Finland', 'Helsink'], \n",
    "    ['David', 'UK', 'London'],\n",
    "    ['John', 'Sweden', 'Stockholm']\n",
    "]\n",
    "df = pd.DataFrame(data, columns=['Names','Country','City'])\n",
    "print(df)"
   ]
  },
  {
   "cell_type": "code",
   "execution_count": null,
   "id": "06a85d19",
   "metadata": {},
   "outputs": [],
   "source": [
    "data = {'Name': ['Asabeneh', 'David', 'John'], 'Country':[\n",
    "    'Finland', 'UK', 'Sweden'], 'City': ['Helsiki', 'London', 'Stockholm']}\n",
    "df = pd.DataFrame(data)\n",
    "print(df)"
   ]
  },
  {
   "cell_type": "code",
   "execution_count": null,
   "id": "d2a62fca",
   "metadata": {},
   "outputs": [],
   "source": [
    "data = [\n",
    "    {'Name': 'Asabeneh', 'Country': 'Finland', 'City': 'Helsinki'},\n",
    "    {'Name': 'David', 'Country': 'UK', 'City': 'London'},\n",
    "    {'Name': 'John', 'Country': 'Sweden', 'City': 'Stockholm'}]\n",
    "df = pd.DataFrame(data)\n",
    "print(df)"
   ]
  },
  {
   "cell_type": "markdown",
   "id": "99a5215a",
   "metadata": {},
   "source": [
    "Reading CSV File Using Pandas"
   ]
  },
  {
   "cell_type": "code",
   "execution_count": null,
   "id": "cabcc274",
   "metadata": {},
   "outputs": [],
   "source": [
    "import pandas as pd\n",
    "\n",
    "df = pd.read_csv('weight-height.csv')\n",
    "print(df)"
   ]
  },
  {
   "cell_type": "code",
   "execution_count": null,
   "id": "cac54c0b",
   "metadata": {},
   "outputs": [],
   "source": [
    "print(df.head()) # give five rows we can increase the number of rows by passing argument to the head() method"
   ]
  },
  {
   "cell_type": "code",
   "execution_count": null,
   "id": "8e606836",
   "metadata": {},
   "outputs": [],
   "source": [
    "print(df.tail()) # tails give the last five rows, we can increase the rows by passing argument to tail method"
   ]
  },
  {
   "cell_type": "code",
   "execution_count": null,
   "id": "eb71098c",
   "metadata": {},
   "outputs": [],
   "source": [
    "print(df.shape) # as you can see 10000 rows and three columns"
   ]
  },
  {
   "cell_type": "code",
   "execution_count": null,
   "id": "0ee0d3d6",
   "metadata": {},
   "outputs": [],
   "source": [
    "print(df.columns)"
   ]
  },
  {
   "cell_type": "code",
   "execution_count": null,
   "id": "964293f6",
   "metadata": {},
   "outputs": [],
   "source": [
    "heights = df['Height'] # this is now a series"
   ]
  },
  {
   "cell_type": "code",
   "execution_count": null,
   "id": "2230fa53",
   "metadata": {},
   "outputs": [],
   "source": [
    "print(heights)"
   ]
  },
  {
   "cell_type": "code",
   "execution_count": null,
   "id": "cbd18053",
   "metadata": {},
   "outputs": [],
   "source": [
    "weights = df['Weight'] # this is now a series\n",
    "print(weights)"
   ]
  },
  {
   "cell_type": "code",
   "execution_count": null,
   "id": "042a0706",
   "metadata": {},
   "outputs": [],
   "source": [
    "print(len(heights) == len(weights))"
   ]
  },
  {
   "cell_type": "code",
   "execution_count": null,
   "id": "9ca6cca7",
   "metadata": {},
   "outputs": [],
   "source": [
    "print(heights.describe()) # give statisical information about height data"
   ]
  },
  {
   "cell_type": "code",
   "execution_count": null,
   "id": "18b698c7",
   "metadata": {},
   "outputs": [],
   "source": [
    "print(weights.describe())"
   ]
  },
  {
   "cell_type": "code",
   "execution_count": null,
   "id": "8df6ce53",
   "metadata": {},
   "outputs": [],
   "source": [
    "print(df.describe())  # describe can also give statistical information from a dataFrame"
   ]
  },
  {
   "cell_type": "code",
   "execution_count": null,
   "id": "958e6adb",
   "metadata": {},
   "outputs": [],
   "source": [
    "import pandas as pd\n",
    "import numpy as np\n",
    "data = [\n",
    "    {\"Name\": \"Asabeneh\", \"Country\":\"Finland\",\"City\":\"Helsinki\"},\n",
    "    {\"Name\": \"David\", \"Country\":\"UK\",\"City\":\"London\"},\n",
    "    {\"Name\": \"John\", \"Country\":\"Sweden\",\"City\":\"Stockholm\"}]\n",
    "df = pd.DataFrame(data)\n",
    "print(df)"
   ]
  },
  {
   "cell_type": "code",
   "execution_count": null,
   "id": "ccdec8f2",
   "metadata": {},
   "outputs": [],
   "source": [
    "weights = [74, 78, 69]\n",
    "df['Weight'] = weights\n",
    "df"
   ]
  },
  {
   "cell_type": "code",
   "execution_count": null,
   "id": "6dcdbe95",
   "metadata": {},
   "outputs": [],
   "source": [
    "heights = [173, 175, 169]\n",
    "df['Height'] = heights\n",
    "print(df)"
   ]
  },
  {
   "cell_type": "code",
   "execution_count": null,
   "id": "b6a686e9",
   "metadata": {},
   "outputs": [],
   "source": [
    "df['Height'] = df['Height'] * 0.01\n",
    "df"
   ]
  },
  {
   "cell_type": "code",
   "execution_count": null,
   "id": "a876ef9e",
   "metadata": {},
   "outputs": [],
   "source": [
    "# Using functions makes our code clean, but you can calculate the bmi without one\n",
    "def calculate_bmi ():\n",
    "    weights = df['Weight']\n",
    "    heights = df['Height']\n",
    "    bmi = []\n",
    "    for w,h in zip(weights, heights):\n",
    "        b = w/(h*h)\n",
    "        bmi.append(b)\n",
    "    return bmi\n",
    "    \n",
    "bmi = calculate_bmi()\n"
   ]
  },
  {
   "cell_type": "code",
   "execution_count": null,
   "id": "f29225e2",
   "metadata": {},
   "outputs": [],
   "source": [
    "df['BMI'] = bmi\n",
    "df"
   ]
  },
  {
   "cell_type": "code",
   "execution_count": null,
   "id": "b2a8610b",
   "metadata": {},
   "outputs": [],
   "source": [
    "df['BMI'] = round(df['BMI'], 1)\n",
    "print(df)"
   ]
  },
  {
   "cell_type": "code",
   "execution_count": null,
   "id": "b3ec763d",
   "metadata": {},
   "outputs": [],
   "source": [
    "birth_year = ['1769', '1985', '1990']\n",
    "current_year = pd.Series(2020, index=[0, 1,2])\n",
    "df['Birth Year'] = birth_year\n",
    "df['Current Year'] = current_year\n",
    "df"
   ]
  },
  {
   "cell_type": "code",
   "execution_count": null,
   "id": "64fb10a6",
   "metadata": {},
   "outputs": [],
   "source": [
    "print(df.Weight.dtype)"
   ]
  },
  {
   "cell_type": "code",
   "execution_count": null,
   "id": "f456f166",
   "metadata": {},
   "outputs": [],
   "source": [
    "    df['Birth Year'].dtype # it gives string object , we should change this to number\n"
   ]
  },
  {
   "cell_type": "code",
   "execution_count": null,
   "id": "6ae7e029",
   "metadata": {},
   "outputs": [],
   "source": [
    "df['Birth Year'] = df['Birth Year'].astype('int')\n",
    "print(df['Birth Year'].dtype) # let's check the data type now"
   ]
  },
  {
   "cell_type": "code",
   "execution_count": null,
   "id": "7e14b178",
   "metadata": {},
   "outputs": [],
   "source": [
    "df['Current Year'] = df['Current Year'].astype('int')\n",
    "df['Current Year'].dtype"
   ]
  },
  {
   "cell_type": "code",
   "execution_count": null,
   "id": "dbc457e6",
   "metadata": {},
   "outputs": [],
   "source": [
    "ages = df['Current Year'] - df['Birth Year']\n",
    "ages"
   ]
  },
  {
   "cell_type": "code",
   "execution_count": null,
   "id": "d1ac2f2b",
   "metadata": {},
   "outputs": [],
   "source": [
    "df['Ages'] = ages\n",
    "print(df)"
   ]
  },
  {
   "cell_type": "code",
   "execution_count": null,
   "id": "ad497c1c",
   "metadata": {},
   "outputs": [],
   "source": [
    "mean = (35 + 30)/ 2\n",
    "print('Mean: ',mean)\t#it is good to add some description to the output, so we know what is what"
   ]
  },
  {
   "cell_type": "markdown",
   "id": "d9ae95da",
   "metadata": {},
   "source": [
    "Boolean Indexing"
   ]
  },
  {
   "cell_type": "code",
   "execution_count": null,
   "id": "ec0f2352",
   "metadata": {},
   "outputs": [],
   "source": [
    "print(df[df['Ages'] > 120])"
   ]
  },
  {
   "cell_type": "code",
   "execution_count": null,
   "id": "428113d1",
   "metadata": {},
   "outputs": [],
   "source": [
    "print(df[df['Ages'] < 120])"
   ]
  },
  {
   "cell_type": "code",
   "execution_count": null,
   "id": "b6953e47",
   "metadata": {},
   "outputs": [],
   "source": [
    "my_data= pd.read_csv('hacker_news.csv')"
   ]
  },
  {
   "cell_type": "code",
   "execution_count": null,
   "id": "89eb3ea5",
   "metadata": {
    "scrolled": true
   },
   "outputs": [],
   "source": [
    "my_data.head()"
   ]
  },
  {
   "cell_type": "code",
   "execution_count": null,
   "id": "e3c2db42",
   "metadata": {},
   "outputs": [],
   "source": [
    "my_data.tail()"
   ]
  },
  {
   "cell_type": "code",
   "execution_count": null,
   "id": "cbfadd85",
   "metadata": {},
   "outputs": [],
   "source": [
    "\n",
    "title_series = my_data['title']\n",
    "print(title_series)"
   ]
  },
  {
   "cell_type": "code",
   "execution_count": null,
   "id": "0ddae316",
   "metadata": {},
   "outputs": [],
   "source": [
    "num_rows = my_data.shape[0]\n",
    "num_columns = my_data.shape[1]\n",
    "\n",
    "print (num_rows)\n",
    "print (num_rows)"
   ]
  },
  {
   "cell_type": "code",
   "execution_count": null,
   "id": "a720d6cc",
   "metadata": {},
   "outputs": [],
   "source": [
    "my_data.shape"
   ]
  },
  {
   "cell_type": "code",
   "execution_count": null,
   "id": "62b8001b",
   "metadata": {},
   "outputs": [],
   "source": [
    "python_titles = my_data[my_data['title'].str.contains('python', case=False)]\n",
    "print(python_titles)"
   ]
  },
  {
   "cell_type": "code",
   "execution_count": null,
   "id": "aa09ec2e",
   "metadata": {},
   "outputs": [],
   "source": [
    "javascript_titles = my_data[my_data['title'].str.contains('javascript', case=False)]\n",
    "print(javascript_titles)"
   ]
  },
  {
   "cell_type": "code",
   "execution_count": null,
   "id": "e2748d85",
   "metadata": {},
   "outputs": [],
   "source": []
  }
 ],
 "metadata": {
  "kernelspec": {
   "display_name": "Python 3",
   "language": "python",
   "name": "python3"
  },
  "language_info": {
   "codemirror_mode": {
    "name": "ipython",
    "version": 3
   },
   "file_extension": ".py",
   "mimetype": "text/x-python",
   "name": "python",
   "nbconvert_exporter": "python",
   "pygments_lexer": "ipython3",
   "version": "3.11.2"
  },
  "vscode": {
   "interpreter": {
    "hash": "72b2382ece9768098284d92bbc69d35954e75b60d1e25897d1389c232f4796f0"
   }
  }
 },
 "nbformat": 4,
 "nbformat_minor": 5
}
